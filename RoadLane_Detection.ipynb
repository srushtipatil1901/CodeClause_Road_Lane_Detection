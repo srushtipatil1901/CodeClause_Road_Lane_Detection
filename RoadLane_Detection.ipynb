{
 "cells": [
  {
   "cell_type": "code",
   "execution_count": null,
   "id": "e50ee4f8",
   "metadata": {},
   "outputs": [],
   "source": [
    "# Road_Lane_Detection\n",
    "\n",
    "import cv2\n",
    "import numpy as np\n",
    "\n",
    "def region_of_interest(img, vertices):\n",
    "    mask = np.zeros_like(img)\n",
    "    if len(img.shape) > 2:\n",
    "        channel_count = img.shape[2]\n",
    "        ignore_mask_color = (255,) * channel_count\n",
    "    else:\n",
    "        ignore_mask_color = 255\n",
    "    cv2.fillPoly(mask, vertices, ignore_mask_color)\n",
    "    masked_image = cv2.bitwise_and(img, mask)\n",
    "    return masked_image\n",
    "\n",
    "def draw_lines(img, lines, color=[255, 0, 0], thickness=2):\n",
    "    for line in lines:\n",
    "        for x1,y1,x2,y2 in line:\n",
    "            cv2.line(img, (x1, y1), (x2, y2), color, thickness)\n",
    "\n",
    "def hough_lines(img, rho, theta, threshold, min_line_len, max_line_gap):\n",
    "    lines = cv2.HoughLinesP(img, rho, theta, threshold, np.array([]), minLineLength=min_line_len, maxLineGap=max_line_gap)\n",
    "    return lines\n",
    "\n",
    "def process_frame(frame):\n",
    "    gray = cv2.cvtColor(frame, cv2.COLOR_RGB2GRAY)\n",
    "    blur_gray = cv2.GaussianBlur(gray, (5, 5), 0)\n",
    "    edges = cv2.Canny(blur_gray, 50, 150)\n",
    "    imshape = frame.shape\n",
    "    # change the vertices to select the bottom 50% of the frame\n",
    "    vertices = np.array([[(0,imshape[0]),(0, imshape[0]*0.5), (imshape[1], imshape[0]*0.5), (imshape[1],imshape[0])]], dtype=np.int32)\n",
    "    edges = region_of_interest(edges, vertices)\n",
    "    lines = hough_lines(edges, 1, np.pi/180, 20, 20, 100)\n",
    "    draw_lines(frame, lines)\n",
    "    return frame\n",
    "\n",
    "\n",
    "video = cv2.VideoCapture(\"test6.mp4\")\n",
    "while True:\n",
    "    ret, frame = video.read()\n",
    "    if ret:\n",
    "        frame = process_frame(frame)\n",
    "        cv2.imshow(\"Road Lane Detection\", frame)\n",
    "    if cv2.waitKey(1) & 0xFF == ord('q'):\n",
    "        break\n",
    "video.release()\n",
    "cv2.destroyAllWindows()"
   ]
  }
 ],
 "metadata": {
  "kernelspec": {
   "display_name": "Python 3 (ipykernel)",
   "language": "python",
   "name": "python3"
  },
  "language_info": {
   "codemirror_mode": {
    "name": "ipython",
    "version": 3
   },
   "file_extension": ".py",
   "mimetype": "text/x-python",
   "name": "python",
   "nbconvert_exporter": "python",
   "pygments_lexer": "ipython3",
   "version": "3.9.12"
  }
 },
 "nbformat": 4,
 "nbformat_minor": 5
}
